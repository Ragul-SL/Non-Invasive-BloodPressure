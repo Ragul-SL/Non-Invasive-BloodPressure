{
  "nbformat": 4,
  "nbformat_minor": 0,
  "metadata": {
    "colab": {
      "provenance": [],
      "authorship_tag": "ABX9TyNeYfFgxfmCLu6k254IAQ3g",
      "include_colab_link": true
    },
    "kernelspec": {
      "name": "python3",
      "display_name": "Python 3"
    },
    "language_info": {
      "name": "python"
    }
  },
  "cells": [
    {
      "cell_type": "markdown",
      "metadata": {
        "id": "view-in-github",
        "colab_type": "text"
      },
      "source": [
        "<a href=\"https://colab.research.google.com/github/Ragul-SL/Non-Invasive-BloodPressure/blob/main/Estimate_BP.ipynb\" target=\"_parent\"><img src=\"https://colab.research.google.com/assets/colab-badge.svg\" alt=\"Open In Colab\"/></a>"
      ]
    },
    {
      "cell_type": "code",
      "execution_count": 3,
      "metadata": {
        "id": "SlkyVW0-UpCb"
      },
      "outputs": [],
      "source": [
        "import numpy as np\n",
        "import pandas as pd\n",
        "import json\n",
        "from os.path import join\n",
        "import matplotlib.pyplot as plt\n",
        "from scipy import signal\n",
        "\n",
        "%matplotlib inline"
      ]
    },
    {
      "cell_type": "code",
      "source": [
        "input_path = '/content/Cuff-less Non-invasive Blood Pressure Estimation Data Set'\n",
        "num_patients = 26"
      ],
      "metadata": {
        "id": "x-ocd2HiUuaI"
      },
      "execution_count": 7,
      "outputs": []
    },
    {
      "cell_type": "code",
      "source": [
        "with open(join(input_path, '1.json'), 'r') as f:\n",
        "    data = json.load(f)"
      ],
      "metadata": {
        "id": "mQhrAfLcVStE"
      },
      "execution_count": 8,
      "outputs": []
    },
    {
      "cell_type": "code",
      "source": [
        "data_keys = ['data_PPG', 'data_ECG', 'data_PCG', 'data_FSR', 'data_BP']"
      ],
      "metadata": {
        "id": "a0ZnhO5oVZTw"
      },
      "execution_count": 9,
      "outputs": []
    },
    {
      "cell_type": "code",
      "source": [
        "{k: len(data[k]) for k in data_keys}"
      ],
      "metadata": {
        "colab": {
          "base_uri": "https://localhost:8080/"
        },
        "id": "7p9Png9vVer9",
        "outputId": "e9f1cf83-12b5-43ce-f94b-64341c0d2ddd"
      },
      "execution_count": 10,
      "outputs": [
        {
          "output_type": "execute_result",
          "data": {
            "text/plain": [
              "{'data_PPG': 280000,\n",
              " 'data_ECG': 280000,\n",
              " 'data_PCG': 280000,\n",
              " 'data_FSR': 280000,\n",
              " 'data_BP': 4}"
            ]
          },
          "metadata": {},
          "execution_count": 10
        }
      ]
    },
    {
      "cell_type": "code",
      "source": [
        "data['data_BP']"
      ],
      "metadata": {
        "colab": {
          "base_uri": "https://localhost:8080/"
        },
        "id": "ThtEbdo1VhHt",
        "outputId": "61eb6038-d7ed-4d5f-c7b5-66b1c8d1ba2d"
      },
      "execution_count": 11,
      "outputs": [
        {
          "output_type": "execute_result",
          "data": {
            "text/plain": [
              "[{'SBP': 141, 'DBP': 82},\n",
              " {'SBP': 134, 'DBP': 73},\n",
              " {'SBP': 125, 'DBP': 70},\n",
              " {'SBP': 118, 'DBP': 57}]"
            ]
          },
          "metadata": {},
          "execution_count": 11
        }
      ]
    },
    {
      "cell_type": "code",
      "source": [],
      "metadata": {
        "id": "yJCmzsUuVjPO"
      },
      "execution_count": null,
      "outputs": []
    }
  ]
}